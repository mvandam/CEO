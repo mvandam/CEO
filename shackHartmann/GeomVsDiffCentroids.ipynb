{
 "cells": [
  {
   "cell_type": "code",
   "execution_count": 1,
   "metadata": {
    "collapsed": false
   },
   "outputs": [
    {
     "name": "stdout",
     "output_type": "stream",
     "text": [
      "Populating the interactive namespace from numpy and matplotlib\n"
     ]
    }
   ],
   "source": [
    "import numpy as np\n",
    "import math\n",
    "import ceo\n",
    "%pylab inline"
   ]
  },
  {
   "cell_type": "code",
   "execution_count": 2,
   "metadata": {
    "collapsed": false
   },
   "outputs": [],
   "source": [
    "NL = 1\n",
    "n = 8\n",
    "NP = n*NL+1\n",
    "d = 0.1\n",
    "src = ceo.Source(\"K\",resolution=(NP,NP))"
   ]
  },
  {
   "cell_type": "code",
   "execution_count": 3,
   "metadata": {
    "collapsed": false
   },
   "outputs": [
    {
     "name": "stdout",
     "output_type": "stream",
     "text": [
      "<ceo.shackHartmann.ShackHartmann object at 0x2b249e41aad0>\n"
     ]
    }
   ],
   "source": [
    "wfs = ceo.ShackHartmann(NL, n, d, DFT_osf=2, N_PX_IMAGE=2*(n+1))\n",
    "tel = ceo.Mask(NP,d)\n",
    "src.masked(tel)\n",
    "wfs.calibrate(src,1.0)\n",
    "print wfs"
   ]
  },
  {
   "cell_type": "code",
   "execution_count": 4,
   "metadata": {
    "collapsed": false
   },
   "outputs": [
    {
     "name": "stdout",
     "output_type": "stream",
     "text": [
      "0.019000002 1.9\n"
     ]
    },
    {
     "data": {
      "image/png": "[encoded data removed]",
      "text/plain": [
       "<matplotlib.figure.Figure at 0x2b249e6b5f90>"
      ]
     },
     "metadata": {},
     "output_type": "display_data"
    }
   ],
   "source": [
    "wfs.analyze(src)\n",
    "imshow(wfs.frame.host(),interpolation='none')\n",
    "print np.sum(wfs.frame.host())*1e-9, src.nPhoton*1e-9"
   ]
  },
  {
   "cell_type": "code",
   "execution_count": 5,
   "metadata": {
    "collapsed": false
   },
   "outputs": [],
   "source": [
    "atm = ceo.Atmosphere(0.15,30)"
   ]
  },
  {
   "cell_type": "code",
   "execution_count": 6,
   "metadata": {
    "collapsed": false
   },
   "outputs": [
    {
     "data": {
      "text/plain": [
       "<matplotlib.image.AxesImage at 0x2b24a4703550>"
      ]
     },
     "execution_count": 6,
     "metadata": {},
     "output_type": "execute_result"
    },
    {
     "data": {
      "image/png": "[encoded data removed]",
      "text/plain": [
       "<matplotlib.figure.Figure at 0x2b24a47a9190>"
      ]
     },
     "metadata": {},
     "output_type": "display_data"
    }
   ],
   "source": [
    "p = d/(NP-1)\n",
    "atm.reset()\n",
    "atm.get_phase_screen(src,p,NP,p,NP,0.0)\n",
    "phase = src.phase\n",
    "imshow(phase.host(),interpolation='none')"
   ]
  },
  {
   "cell_type": "code",
   "execution_count": 7,
   "metadata": {
    "collapsed": false
   },
   "outputs": [
    {
     "data": {
      "text/plain": [
       "<matplotlib.image.AxesImage at 0x2b24a48aa650>"
      ]
     },
     "execution_count": 7,
     "metadata": {},
     "output_type": "execute_result"
    },
    {
     "data": {
      "image/png": "[encoded data removed]",
      "text/plain": [
       "<matplotlib.figure.Figure at 0x2b24a487cd50>"
      ]
     },
     "metadata": {},
     "output_type": "display_data"
    }
   ],
   "source": [
    "#wfs.calibrate(src,1.0)\n",
    "wfs.reset()\n",
    "wfs.analyze(src)\n",
    "imshow(wfs.frame.host(),interpolation='none')"
   ]
  },
  {
   "cell_type": "code",
   "execution_count": 8,
   "metadata": {
    "collapsed": false
   },
   "outputs": [
    {
     "name": "stdout",
     "output_type": "stream",
     "text": [
      "[[  1.68621796e-06  -2.54515135e-06]]\n"
     ]
    }
   ],
   "source": [
    "print wfs.c.host()"
   ]
  },
  {
   "cell_type": "code",
   "execution_count": 9,
   "metadata": {
    "collapsed": false
   },
   "outputs": [
    {
     "name": "stdout",
     "output_type": "stream",
     "text": [
      "-2.65509982e-06 1.72685517441e-06\n"
     ]
    }
   ],
   "source": [
    "print np.mean(phase.host_data[:,0] - phase.host_data[:,-1])/d ,  np.mean(phase.host_data[0,:] - phase.host_data[-1,:])/d"
   ]
  },
  {
   "cell_type": "code",
   "execution_count": 10,
   "metadata": {
    "collapsed": false
   },
   "outputs": [],
   "source": [
    "atm.get_phase_screen_gradientSH(wfs,NL,d,src,0.0)"
   ]
  },
  {
   "cell_type": "code",
   "execution_count": 11,
   "metadata": {
    "collapsed": false
   },
   "outputs": [
    {
     "name": "stdout",
     "output_type": "stream",
     "text": [
      "[[  1.70398835e-06  -2.70564897e-06]]\n"
     ]
    }
   ],
   "source": [
    "print wfs.c.host()"
   ]
  },
  {
   "cell_type": "code",
   "execution_count": 12,
   "metadata": {
    "collapsed": false
   },
   "outputs": [],
   "source": [
    "sx = ceo.cuFloatArray(shape=(NL,NL),dev_malloc=True)\n",
    "sy = ceo.cuFloatArray(shape=(NL,NL),dev_malloc=True)"
   ]
  },
  {
   "cell_type": "code",
   "execution_count": 13,
   "metadata": {
    "collapsed": false
   },
   "outputs": [],
   "source": [
    "ceo.wavefrontFiniteDifference(sx,sy,NL,phase,n,d)"
   ]
  },
  {
   "cell_type": "code",
   "execution_count": 14,
   "metadata": {
    "collapsed": false
   },
   "outputs": [
    {
     "name": "stdout",
     "output_type": "stream",
     "text": [
      "[[  1.72685543e-06]] [[ -2.65509948e-06]]\n"
     ]
    }
   ],
   "source": [
    "print sx.host(), sy.host()"
   ]
  },
  {
   "cell_type": "code",
   "execution_count": 15,
   "metadata": {
    "collapsed": false
   },
   "outputs": [],
   "source": [
    "#S = ceo.SparseMatrix(20,3,3)"
   ]
  },
  {
   "cell_type": "code",
   "execution_count": 16,
   "metadata": {
    "collapsed": false
   },
   "outputs": [
    {
     "name": "stdout",
     "output_type": "stream",
     "text": [
      "('SparseMatrix.cinit', (2, 5, 0.16666666666666666), {})\n",
      "('SparseMatrix.init', 96, 8, 11, (), {})\n"
     ]
    }
   ],
   "source": [
    "G = ceo.SparseGradient(2,5,1./6.0)"
   ]
  },
  {
   "cell_type": "code",
   "execution_count": 17,
   "metadata": {
    "collapsed": false
   },
   "outputs": [
    {
     "name": "stdout",
     "output_type": "stream",
     "text": [
      "96\n",
      "[[ 1.  1.  1.  1.  1.  1. -1. -1. -1. -1. -1. -1.  1.  1.  1.  1.  1.  1.\n",
      "  -1. -1. -1. -1. -1. -1.  1.  1.  1.  1.  1.  1. -1. -1. -1. -1. -1. -1.\n",
      "   1.  1.  1.  1.  1.  1. -1. -1. -1. -1. -1. -1.  1.  1.  1.  1.  1.  1.\n",
      "  -1. -1. -1. -1. -1. -1.  1.  1.  1.  1.  1.  1. -1. -1. -1. -1. -1. -1.\n",
      "   1.  1.  1.  1.  1.  1. -1. -1. -1. -1. -1. -1.  1.  1.  1.  1.  1.  1.\n",
      "  -1. -1. -1. -1. -1. -1.]]\n",
      "0.166666666667\n",
      "[[  0   1   2   3   4   5  55  56  57  58  59  60   5   6   7   8   9  10\n",
      "   60  61  62  63  64  65  55  56  57  58  59  60 110 111 112 113 114 115\n",
      "   60  61  62  63  64  65 115 116 117 118 119 120   0  11  22  33  44  55\n",
      "    5  16  27  38  49  60   5  16  27  38  49  60  10  21  32  43  54  65\n",
      "   55  66  77  88  99 110  60  71  82  93 104 115  60  71  82  93 104 115\n",
      "   65  76  87  98 109 120]]\n",
      "[[ 0 12 24 36 48 60 72 84 96]]\n"
     ]
    }
   ],
   "source": [
    "print G.nnz\n",
    "print G.csrValH.host().T\n",
    "print 1.0/6\n",
    "print G.csrColIndH.host().T\n",
    "print G.csrRowPtrH.host().T"
   ]
  },
  {
   "cell_type": "code",
   "execution_count": null,
   "metadata": {
    "collapsed": true
   },
   "outputs": [],
   "source": []
  },
  {
   "cell_type": "code",
   "execution_count": null,
   "metadata": {
    "collapsed": true
   },
   "outputs": [],
   "source": []
  }
 ],
 "metadata": {
  "kernelspec": {
   "display_name": "Python 2",
   "language": "python",
   "name": "python2"
  },
  "language_info": {
   "codemirror_mode": {
    "name": "ipython",
    "version": 2
   },
   "file_extension": ".py",
   "mimetype": "text/x-python",
   "name": "python",
   "nbconvert_exporter": "python",
   "pygments_lexer": "ipython2",
   "version": "2.7.10"
  }
 },
 "nbformat": 4,
 "nbformat_minor": 0
}
