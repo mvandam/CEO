{
 "cells": [
  {
   "cell_type": "markdown",
   "metadata": {},
   "source": [
    "# Interactive Shack-Hartmann Wavefront Sensor"
   ]
  },
  {
   "cell_type": "code",
   "execution_count": 2,
   "metadata": {},
   "outputs": [
    {
     "name": "stdout",
     "output_type": "stream",
     "text": [
      "Populating the interactive namespace from numpy and matplotlib\n"
     ]
    },
    {
     "name": "stderr",
     "output_type": "stream",
     "text": [
      "/home/ubuntu/anaconda/lib/python2.7/site-packages/IPython/core/magics/pylab.py:161: UserWarning: pylab import has clobbered these variables: ['interactive']\n",
      "`%matplotlib` prevents importing * from pylab and numpy\n",
      "  \"\\n`%matplotlib` prevents importing * from pylab and numpy\"\n"
     ]
    }
   ],
   "source": [
    "import numpy as np\n",
    "import ceo\n",
    "%pylab inline\n",
    "#from IPython.html import widgets\n",
    "#from notebook import widgets\n",
    "#from IPython.html.widgets import interact\n",
    "from ipywidgets import interact, interactive, fixed, interact_manual\n",
    "import ipywidgets as widgets\n",
    "from IPython.display import display"
   ]
  },
  {
   "cell_type": "code",
   "execution_count": 3,
   "metadata": {
    "collapsed": true
   },
   "outputs": [],
   "source": [
    "def shackHartmann(wavelength=\"V\",pupil='square',nLenslet=1,n=6,DFT_osf=2,N_PX_IMAGE=6,BIN_IMAGE=1,nGS=1):\n",
    "    #nLenslet = 10\n",
    "    D = 8.0\n",
    "    pitch = D/nLenslet\n",
    "    #n = 6\n",
    "    nPx = n*nLenslet + 1\n",
    "    #nGS = 1\n",
    "    zen = np.random.uniform(-1,1,nGS)*5*math.pi/180/60\n",
    "    azi = np.random.uniform(0,2*math.pi,nGS)\n",
    "    gs = ceo.Source(wavelength,zenith=zen,azimuth=azi,height=float(\"inf\"),resolution=(nPx,nPx))\n",
    "    if pupil=='square':\n",
    "        tel = ceo.Mask(nPx,D)\n",
    "    if pupil=='disc':\n",
    "        tel = ceo.Telescope(nPx,D)\n",
    "    if pupil=='GMT':\n",
    "        D = 25.5\n",
    "        tel = ceo.GMT(nPx,D)\n",
    "    gs.masked(tel)\n",
    "    wfs = ceo.ShackHartmann(nLenslet, n, pitch,DFT_osf=DFT_osf,N_PX_IMAGE=N_PX_IMAGE,BIN_IMAGE=BIN_IMAGE,N_GS = nGS)\n",
    "    #wfs.calibrate(gs,0.5)\n",
    "    wfs.analyze(gs)\n",
    "    figure(figsize=(nGS*8,8))\n",
    "    frame = wfs.frame.host().transpose()\n",
    "    l = frame.shape[0]/2.0\n",
    "    imshow(frame,interpolation='none',extent=(-l,l,-l,l))\n",
    "    grid()\n",
    "    colorbar()\n"
   ]
  },
  {
   "cell_type": "code",
   "execution_count": 12,
   "metadata": {},
   "outputs": [
    {
     "data": {
      "image/png": "[encoded data removed]",
      "text/plain": [
       "<matplotlib.figure.Figure at 0x7f98acef79d0>"
      ]
     },
     "metadata": {},
     "output_type": "display_data"
    }
   ],
   "source": [
    "i = interact(shackHartmann,wavelength=[\"V\",\"R\",\"I\",\"J\",\"K\"],pupil=['square','disc','GMT'],\n",
    "             nLenslet=(1,100),n=(2,64),DFT_osf=(2,6),N_PX_IMAGE=(2,64),BIN_IMAGE=(1,4),nGS=(1,6))"
   ]
  },
  {
   "cell_type": "code",
   "execution_count": null,
   "metadata": {
    "collapsed": true
   },
   "outputs": [],
   "source": []
  }
 ],
 "metadata": {
  "kernelspec": {
   "display_name": "Python 2",
   "language": "python",
   "name": "python2"
  },
  "language_info": {
   "codemirror_mode": {
    "name": "ipython",
    "version": 2
   },
   "file_extension": ".py",
   "mimetype": "text/x-python",
   "name": "python",
   "nbconvert_exporter": "python",
   "pygments_lexer": "ipython2",
   "version": "2.7.12"
  }
 },
 "nbformat": 4,
 "nbformat_minor": 1
}
