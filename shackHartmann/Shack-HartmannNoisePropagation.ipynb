{
 "cells": [
  {
   "cell_type": "code",
   "execution_count": 1,
   "metadata": {
    "collapsed": false
   },
   "outputs": [
    {
     "name": "stdout",
     "output_type": "stream",
     "text": [
      "Populating the interactive namespace from numpy and matplotlib\n"
     ]
    }
   ],
   "source": [
    "import ceo\n",
    "%pylab inline"
   ]
  },
  {
   "cell_type": "markdown",
   "metadata": {},
   "source": [
    "A 10th magnitude V band source:"
   ]
  },
  {
   "cell_type": "code",
   "execution_count": 2,
   "metadata": {
    "collapsed": false
   },
   "outputs": [],
   "source": [
    "n = 5\n",
    "src = ceo.Source(\"V\",resolution=(n+1,n+1))\n",
    "src.magnitude = [10]"
   ]
  },
  {
   "cell_type": "markdown",
   "metadata": {},
   "source": [
    "A single lenslet Shack-Hartmann WFS with $4\\times 4$ pixel in the pupil plane and a Nyquist sampled focal plane with $8\\times 8$ pixels:"
   ]
  },
  {
   "cell_type": "code",
   "execution_count": 3,
   "metadata": {
    "collapsed": false
   },
   "outputs": [],
   "source": [
    "wfs = ceo.ShackHartmann(1,n,1,N_PX_IMAGE=2*(n+1))"
   ]
  },
  {
   "cell_type": "markdown",
   "metadata": {},
   "source": [
    "A 1m$^2$ square pupil:"
   ]
  },
  {
   "cell_type": "code",
   "execution_count": 4,
   "metadata": {
    "collapsed": false
   },
   "outputs": [],
   "source": [
    "tel = ceo.Mask(n+1,1)"
   ]
  },
  {
   "cell_type": "markdown",
   "metadata": {},
   "source": [
    "for the source to go through"
   ]
  },
  {
   "cell_type": "code",
   "execution_count": 5,
   "metadata": {
    "collapsed": false
   },
   "outputs": [],
   "source": [
    "src.masked(tel)"
   ]
  },
  {
   "cell_type": "markdown",
   "metadata": {},
   "source": [
    "Lets calibrate the WFS:"
   ]
  },
  {
   "cell_type": "code",
   "execution_count": 6,
   "metadata": {
    "collapsed": false
   },
   "outputs": [],
   "source": [
    "wfs.calibrate(src,1)"
   ]
  },
  {
   "cell_type": "markdown",
   "metadata": {},
   "source": [
    "The WFS detector is reset, the source is propagated through the WFS and the WFS detector is read (the exposure time is 1ms):"
   ]
  },
  {
   "cell_type": "code",
   "execution_count": 7,
   "metadata": {
    "collapsed": false
   },
   "outputs": [
    {
     "data": {
      "text/plain": [
       "<matplotlib.colorbar.Colorbar at 0x7f74f811ecc0>"
      ]
     },
     "execution_count": 7,
     "metadata": {},
     "output_type": "execute_result"
    },
    {
     "data": {
      "image/png": "[encoded data removed]",
      "text/plain": [
       "<matplotlib.figure.Figure at 0x7f74faa02550>"
      ]
     },
     "metadata": {},
     "output_type": "display_data"
    }
   ],
   "source": [
    "src.magnitude = [10]\n",
    "wfs.reset()\n",
    "wfs.propagate(src)\n",
    "wfs.readOut(1e-3,0)\n",
    "frame = wfs.frame\n",
    "imshow(frame.host(),interpolation='none')\n",
    "colorbar()"
   ]
  },
  {
   "cell_type": "code",
   "execution_count": 8,
   "metadata": {
    "collapsed": false
   },
   "outputs": [
    {
     "data": {
      "text/plain": [
       "847.0"
      ]
     },
     "execution_count": 8,
     "metadata": {},
     "output_type": "execute_result"
    }
   ],
   "source": [
    "np.sum(frame.host_data)"
   ]
  },
  {
   "cell_type": "code",
   "execution_count": 9,
   "metadata": {
    "collapsed": false
   },
   "outputs": [
    {
     "data": {
      "text/plain": [
       "array([ 897.])"
      ]
     },
     "execution_count": 9,
     "metadata": {},
     "output_type": "execute_result"
    }
   ],
   "source": [
    "src.nPhoton*1e-3"
   ]
  },
  {
   "cell_type": "markdown",
   "metadata": {},
   "source": [
    "The WFS detector frame is process to get the centroids:"
   ]
  },
  {
   "cell_type": "code",
   "execution_count": 11,
   "metadata": {
    "collapsed": false
   },
   "outputs": [
    {
     "name": "stdout",
     "output_type": "stream",
     "text": [
      "[[-1.57378888 -1.17194343]]\n"
     ]
    }
   ],
   "source": [
    "wfs.process()\n",
    "print(wfs.c.host(units='arcsec')*1e3)"
   ]
  },
  {
   "cell_type": "code",
   "execution_count": 12,
   "metadata": {
    "collapsed": false
   },
   "outputs": [],
   "source": [
    "def wfeVsNoise(magnitude,ron=0,exposure=1e-3):\n",
    "    src.magnitude = [magnitude]\n",
    "    nSample = 2500\n",
    "    cx = np.zeros(nSample)\n",
    "    cy = np.zeros(nSample)\n",
    "    for k in range(nSample):\n",
    "        wfs.reset()\n",
    "        wfs.propagate(src)\n",
    "        wfs.readOut(exposure,ron)\n",
    "        wfs.process()\n",
    "        c = wfs.c.host()\n",
    "        cx[k] = c[0,0]\n",
    "        cy[k] = c[0,1]    \n",
    "    return src.nPhoton*exposure, cx.var(), cy.var()"
   ]
  },
  {
   "cell_type": "markdown",
   "metadata": {},
   "source": [
    "## Centroiding error versus photon noise"
   ]
  },
  {
   "cell_type": "markdown",
   "metadata": {},
   "source": [
    "### Analytical expression"
   ]
  },
  {
   "cell_type": "code",
   "execution_count": 13,
   "metadata": {
    "collapsed": false
   },
   "outputs": [],
   "source": [
    "def photonNoise(nPh,fwhm):\n",
    "    return ((fwhm**2/(4*math.log(2)))/nPh)"
   ]
  },
  {
   "cell_type": "markdown",
   "metadata": {},
   "source": [
    "### Numerical estimation"
   ]
  },
  {
   "cell_type": "code",
   "execution_count": 16,
   "metadata": {
    "collapsed": false
   },
   "outputs": [
    {
     "name": "stdout",
     "output_type": "stream",
     "text": [
      "[  0.   1.   2.   3.   4.   5.   6.   7.   8.   9.  10.  11.  12.  13.  14.]\n"
     ]
    }
   ],
   "source": [
    "magnitude = np.linspace(0,14,15)\n",
    "print(magnitude)"
   ]
  },
  {
   "cell_type": "code",
   "execution_count": 19,
   "metadata": {
    "collapsed": false
   },
   "outputs": [
    {
     "name": "stdout",
     "output_type": "stream",
     "text": [
      "[  8.97000038e+06   3.57102157e+06   1.42164928e+06   5.65968704e+05\n",
      "   2.25316208e+05   8.97000000e+04   3.57102040e+04   1.42164940e+04\n",
      "   5.65968750e+03   2.25316275e+03   8.97000000e+02   3.57102062e+02\n",
      "   1.42164875e+02   5.65969023e+01   2.25316270e+01]\n"
     ]
    }
   ],
   "source": [
    "cex = np.zeros(magnitude.size)\n",
    "cey = np.zeros(magnitude.size)\n",
    "nPh = np.zeros(magnitude.size)\n",
    "for x in range(magnitude.size):\n",
    "    nPh[x], cex[x],cey[x] = wfeVsNoise(x)\n",
    "print(nPh)"
   ]
  },
  {
   "cell_type": "code",
   "execution_count": 20,
   "metadata": {
    "collapsed": false
   },
   "outputs": [
    {
     "name": "stdout",
     "output_type": "stream",
     "text": [
      "[  4.50583337e-01  -4.91398632e-05] [  4.24288142e-01  -1.37810336e-05]\n"
     ]
    }
   ],
   "source": [
    "px_scale = 0.55e-6/2\n",
    "fwhm = 2*px_scale\n",
    "i_nPh = 1.0/nPh\n",
    "u = cex/fwhm**2\n",
    "v = cey/fwhm**2\n",
    "px = polyfit(i_nPh , u,1)\n",
    "py = polyfit(i_nPh , v,1)\n",
    "print(px, py)"
   ]
  },
  {
   "cell_type": "code",
   "execution_count": 21,
   "metadata": {
    "collapsed": false
   },
   "outputs": [
    {
     "data": {
      "text/plain": [
       "<matplotlib.legend.Legend at 0x7f74f3d561d0>"
      ]
     },
     "execution_count": 21,
     "metadata": {},
     "output_type": "execute_result"
    },
    {
     "data": {
      "image/png": "[encoded data removed]",
      "text/plain": [
       "<matplotlib.figure.Figure at 0x7f74f804eb00>"
      ]
     },
     "metadata": {},
     "output_type": "display_data"
    }
   ],
   "source": [
    "fig, ax = plt.subplots()\n",
    "ax.plot(i_nPh,u,'.',label='x data')\n",
    "ax.plot(i_nPh,v,'.',label='y data')\n",
    "ax.plot(i_nPh,px[0]/nPh + px[1],label='x fit')\n",
    "ax.plot(i_nPh,py[0]/nPh + py[1],label='y fit')\n",
    "ax.plot(i_nPh,photonNoise(nPh,fwhm)/fwhm**2,label='analytic')\n",
    "ax,grid()\n",
    "ax.set_xlabel('1/Nph')\n",
    "ax.legend(loc=0)"
   ]
  },
  {
   "cell_type": "markdown",
   "metadata": {},
   "source": [
    "# Centroiding error versus read-out noise"
   ]
  },
  {
   "cell_type": "markdown",
   "metadata": {},
   "source": [
    "### Analytical expression"
   ]
  },
  {
   "cell_type": "code",
   "execution_count": 22,
   "metadata": {
    "collapsed": false
   },
   "outputs": [],
   "source": [
    "def readOutNoise(ron,pxScale,nPh,Ns):\n",
    "    return (pxScale*ron/nPh)**2*Ns**4/12"
   ]
  },
  {
   "cell_type": "markdown",
   "metadata": {},
   "source": [
    "### Numerical estimation"
   ]
  },
  {
   "cell_type": "code",
   "execution_count": 24,
   "metadata": {
    "collapsed": false
   },
   "outputs": [
    {
     "name": "stdout",
     "output_type": "stream",
     "text": [
      "[  0.   1.   2.   3.   4.   5.   6.   7.   8.   9.  10.]\n"
     ]
    }
   ],
   "source": [
    "ron = np.linspace(0,10,11)\n",
    "print(ron)"
   ]
  },
  {
   "cell_type": "code",
   "execution_count": 25,
   "metadata": {
    "collapsed": false
   },
   "outputs": [],
   "source": [
    "cex = np.zeros(ron.size)\n",
    "cey = np.zeros(ron.size)\n",
    "nPh = np.zeros(ron.size)\n",
    "for x in range(ron.size):\n",
    "    nPh[x], cex[x],cey[x] = wfeVsNoise(8,ron=x)"
   ]
  },
  {
   "cell_type": "code",
   "execution_count": 27,
   "metadata": {
    "collapsed": false
   },
   "outputs": [
    {
     "name": "stdout",
     "output_type": "stream",
     "text": [
      "[ 1746.74107737  9085.3415336 ] [ 1760.75274942  9077.69677875]\n"
     ]
    }
   ],
   "source": [
    "u = nPh[0]**2*cex/px_scale**2\n",
    "v = nPh[0]**2*cey/px_scale**2\n",
    "ron2 = ron**2\n",
    "px = polyfit(ron2 , u,1)\n",
    "py = polyfit(ron2 , v,1)\n",
    "print(px, py)"
   ]
  },
  {
   "cell_type": "code",
   "execution_count": 28,
   "metadata": {
    "collapsed": false
   },
   "outputs": [
    {
     "data": {
      "text/plain": [
       "<matplotlib.legend.Legend at 0x7f74f3c7c9e8>"
      ]
     },
     "execution_count": 28,
     "metadata": {},
     "output_type": "execute_result"
    },
    {
     "data": {
      "image/png": "[encoded data removed]",
      "text/plain": [
       "<matplotlib.figure.Figure at 0x7f74f3d2abe0>"
      ]
     },
     "metadata": {},
     "output_type": "display_data"
    }
   ],
   "source": [
    "fig, ax = plt.subplots()\n",
    "ax.plot(ron2,u,'.',label='x data')\n",
    "ax.plot(ron2,v,'.',label='y data')\n",
    "ax.plot(ron2,px[0]*ron2 + px[1],label='x fit')\n",
    "ax.plot(ron2,py[0]*ron2 + py[1],label='y fit')\n",
    "ax.plot(ron2,nPh[0]**2*readOutNoise(ron,px_scale,nPh[0],(n+1)*2)/px_scale**2+0.5*(px[1]+py[1]),'--',label='analytic')\n",
    "ax.grid()\n",
    "ax.set_xlabel('ron$^2$')\n",
    "ax.legend(loc=0)"
   ]
  },
  {
   "cell_type": "code",
   "execution_count": null,
   "metadata": {
    "collapsed": false
   },
   "outputs": [],
   "source": [
    "0.25/math.log(2)"
   ]
  },
  {
   "cell_type": "code",
   "execution_count": null,
   "metadata": {
    "collapsed": false
   },
   "outputs": [],
   "source": [
    "(2*n)**4/12"
   ]
  }
 ],
 "metadata": {
  "kernelspec": {
   "display_name": "Python 3",
   "language": "python",
   "name": "python3"
  },
  "language_info": {
   "codemirror_mode": {
    "name": "ipython",
    "version": 3
   },
   "file_extension": ".py",
   "mimetype": "text/x-python",
   "name": "python",
   "nbconvert_exporter": "python",
   "pygments_lexer": "ipython3",
   "version": "3.4.5"
  }
 },
 "nbformat": 4,
 "nbformat_minor": 0
}
