{
 "cells": [
  {
   "cell_type": "code",
   "execution_count": 1,
   "metadata": {
    "collapsed": true
   },
   "outputs": [],
   "source": [
    "import ceo\n",
    "import matplotlib.pyplot as plt\n",
    "import numpy as np\n",
    "%matplotlib inline"
   ]
  },
  {
   "cell_type": "code",
   "execution_count": 2,
   "metadata": {
    "collapsed": true
   },
   "outputs": [],
   "source": [
    "nLenslet = 48\n",
    "nPx = 48*8+1\n",
    "gs = ceo.Source('R',rays_box_size=25.5,rays_box_sampling=nPx,rays_origin=[0,0,25])\n",
    "gmt = ceo.GMT_MX()\n",
    "wfs = ceo.GeometricShackHartmann(nLenslet,25.5/48)\n",
    "gmt.propagate(gs)\n",
    "wfs.calibrate(gs,0.5)"
   ]
  },
  {
   "cell_type": "code",
   "execution_count": 24,
   "metadata": {
    "collapsed": false
   },
   "outputs": [
    {
     "name": "stdout",
     "output_type": "stream",
     "text": [
      "-6.87e-11 0.883326\n"
     ]
    },
    {
     "data": {
      "image/png": "[encoded data removed]",
      "text/plain": [
       "<matplotlib.figure.Figure at 0x7fa13e5c68d0>"
      ]
     },
     "metadata": {},
     "output_type": "display_data"
    }
   ],
   "source": [
    "gmt.reset()\n",
    "\n",
    "gmt.M1.motion_CS.euler_angles[1,0]=0.5 * ceo.constants.ARCSEC2RAD\n",
    "\n",
    "gmt.M1.motion_CS.update()\n",
    "\n",
    "gs.reset()\n",
    "\n",
    "gmt.propagate(gs)\n",
    "\n",
    "wfs.reset()\n",
    "\n",
    "#wfs.analyze(gs)\n",
    "\n",
    "for k in range(20):\n",
    "    wfs.propagate(gs)\n",
    "wfs.process()\n",
    " \n",
    "\n",
    " \n",
    "\n",
    "plt.imshow(wfs.c.host(shape=((nLenslet*2,nLenslet)))*ceo.constants.RAD2ARCSEC, interpolation='None')\n",
    "\n",
    "plt.colorbar()\n",
    "\n",
    "print np.min(wfs.get_measurement()*ceo.constants.RAD2ARCSEC), np.max(wfs.get_measurement()*ceo.constants.RAD2ARCSEC)"
   ]
  },
  {
   "cell_type": "code",
   "execution_count": null,
   "metadata": {
    "collapsed": true
   },
   "outputs": [],
   "source": []
  },
  {
   "cell_type": "code",
   "execution_count": null,
   "metadata": {
    "collapsed": true
   },
   "outputs": [],
   "source": []
  },
  {
   "cell_type": "code",
   "execution_count": null,
   "metadata": {
    "collapsed": true
   },
   "outputs": [],
   "source": []
  }
 ],
 "metadata": {
  "kernelspec": {
   "display_name": "Python 2",
   "language": "python",
   "name": "python2"
  },
  "language_info": {
   "codemirror_mode": {
    "name": "ipython",
    "version": 2
   },
   "file_extension": ".py",
   "mimetype": "text/x-python",
   "name": "python",
   "nbconvert_exporter": "python",
   "pygments_lexer": "ipython2",
   "version": "2.7.12"
  }
 },
 "nbformat": 4,
 "nbformat_minor": 0
}
