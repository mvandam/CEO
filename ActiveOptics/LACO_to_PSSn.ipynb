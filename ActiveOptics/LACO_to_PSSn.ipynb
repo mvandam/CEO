{
 "cells": [
  {
   "cell_type": "code",
   "execution_count": 1,
   "metadata": {},
   "outputs": [
    {
     "name": "stdout",
     "output_type": "stream",
     "text": [
      ">>> ON_AXIS_SRC.json\n",
      ">>> ATMOSPHERE.json\n",
      ">>> WFS_GUIDE_STARS.json\n",
      ">>> WFS.json\n",
      ">>> ON_AXIS_IMGR.json\n",
      ">>> TT7_GUIDE_STAR.json\n",
      ">>> TT7.json\n",
      ">>> GMT.json\n",
      "WFS seeing: 0.75arcsec\n",
      "WFS FWHM: 5.000000 pixel\n",
      "6912\n",
      "detector resolution: 384pixel\n",
      "WFS pixel scale:  0.42arcsec\n",
      "WFS field-of-view 3.33arcsec\n"
     ]
    }
   ],
   "source": [
    "from active_optics_init import *"
   ]
  },
  {
   "cell_type": "code",
   "execution_count": 22,
   "metadata": {
    "collapsed": true
   },
   "outputs": [],
   "source": [
    "from LinearActiveOptics import BuildLinearActiveOptics, Wavefronts, \\\n",
    "                ModelData, LinearActiveOptics, noiseRejectionFactor, wfsNoise"
   ]
  },
  {
   "cell_type": "code",
   "execution_count": 3,
   "metadata": {},
   "outputs": [
    {
     "name": "stdout",
     "output_type": "stream",
     "text": [
      "(14, 39)\n",
      "(14, 37)\n",
      "@(CalibrationMatrix)> Updating the pseudo-inverse...\n",
      "[2, 2, 2, 2, 2, 2, 0]\n"
     ]
    }
   ],
   "source": [
    "laco = LinearActiveOptics('ActiveOptics_27BM','DATA/onAxisWavefront_401')"
   ]
  },
  {
   "cell_type": "code",
   "execution_count": 4,
   "metadata": {},
   "outputs": [
    {
     "data": {
      "text/plain": [
       "<matplotlib.colorbar.Colorbar at 0x7f41442e6f90>"
      ]
     },
     "execution_count": 4,
     "metadata": {},
     "output_type": "execute_result"
    },
    {
     "data": {
      "image/png": "[encoded data removed]",
      "text/plain": [
       "<matplotlib.figure.Figure at 0x7f414764ad90>"
      ]
     },
     "metadata": {},
     "output_type": "display_data"
    }
   ],
   "source": [
    "J = laco._s_Mtt7.todense()\n",
    "plt.imshow(J,aspect=0.1)\n",
    "plt.colorbar()"
   ]
  },
  {
   "cell_type": "code",
   "execution_count": 5,
   "metadata": {},
   "outputs": [
    {
     "name": "stdout",
     "output_type": "stream",
     "text": [
      "233.454906132\n"
     ]
    },
    {
     "data": {
      "text/plain": [
       "[<matplotlib.lines.Line2D at 0x7f414762b590>]"
      ]
     },
     "execution_count": 5,
     "metadata": {},
     "output_type": "execute_result"
    },
    {
     "data": {
      "image/png": "[encoded data removed]",
      "text/plain": [
       "<matplotlib.figure.Figure at 0x7f414762b2d0>"
      ]
     },
     "metadata": {},
     "output_type": "display_data"
    }
   ],
   "source": [
    "v = J.dot(np.random.randn(14,1))*56#*ceo.constants.MAS2RAD\n",
    "plt.plot(v,'o')\n",
    "print np.std(v[v!=0])\n",
    "w = laco._s_Qwfs.dot(v)\n",
    "plt.plot(w,'.')"
   ]
  },
  {
   "cell_type": "code",
   "execution_count": 6,
   "metadata": {},
   "outputs": [
    {
     "data": {
      "text/plain": [
       "0.80870694524826459"
      ]
     },
     "execution_count": 6,
     "metadata": {},
     "output_type": "execute_result"
    }
   ],
   "source": [
    "np.std(laco.W.dot(v*ceo.constants.MAS2RAD))*1e6"
   ]
  },
  {
   "cell_type": "code",
   "execution_count": 7,
   "metadata": {},
   "outputs": [
    {
     "data": {
      "text/plain": [
       "2.5194278749386046e-07"
      ]
     },
     "execution_count": 7,
     "metadata": {},
     "output_type": "execute_result"
    }
   ],
   "source": [
    "np.std(laco.W.dot(w*ceo.constants.MAS2RAD))*1e6"
   ]
  },
  {
   "cell_type": "markdown",
   "metadata": {},
   "source": [
    "## Wavefront samples"
   ]
  },
  {
   "cell_type": "code",
   "execution_count": 8,
   "metadata": {},
   "outputs": [
    {
     "name": "stdout",
     "output_type": "stream",
     "text": [
      "0.538576520298\n"
     ]
    }
   ],
   "source": [
    "nrf = noiseRejectionFactor({'T':5e-3,'tau':5e-3,'g':0.5})\n",
    "print nrf"
   ]
  },
  {
   "cell_type": "code",
   "execution_count": 31,
   "metadata": {},
   "outputs": [
    {
     "name": "stdout",
     "output_type": "stream",
     "text": [
      "{'N_PX_IMAGE': 710, 'photoElectronGain': 0.66, 'N_PX_LENSLET': 1023, 'readOutNoiseRms': 0.5, 'BIN_IMAGE': 142, 'd': 25.5}\n",
      "{'rays_origin': [0, 0, 25], 'magnitude': 14, 'zenith': 0.0017453292519943294, 'azimuth': 3.141592653589793, 'photometric_band': 'R+I', 'rays_box_sampling': 1024, 'fwhm': 0, 'rays_box_size': 25.5, 'height': inf}\n"
     ]
    }
   ],
   "source": [
    "print tt7_prms\n",
    "print tt7_guide_star"
   ]
  },
  {
   "cell_type": "code",
   "execution_count": 99,
   "metadata": {},
   "outputs": [
    {
     "name": "stdout",
     "output_type": "stream",
     "text": [
      "r0=16.00 @ 500.000000nm\n",
      "TT7 seeing: 0.60arcsec\n",
      "WFS FWHM: 208 pixel\n",
      "detector resolution: 5pixel\n",
      "WFS pixel scale:  0.41arcsec\n",
      "WFS field-of-view 2.05arcsec\n"
     ]
    }
   ],
   "source": [
    "#if TT7_CLASS=='TT7':\n",
    "r0 = 16e-2\n",
    "print \"r0=%.2f @ %fnm\"%(r0*1e2,r0_wavelength*1e9)\n",
    "tt7 = ceo.TT7(**tt7_prms)\n",
    "_r0_ = r0*(tt7_gs.wavelength/r0_wavelength)**1.2\n",
    "seeingArcsec = tt7_gs.wavelength/_r0_*ceo.constants.RAD2ARCSEC\n",
    "print \"TT7 seeing: %.2farcsec\"%seeingArcsec\n",
    "pxscl = tt7.camera.pixelScaleArcsec(tt7_gs)\n",
    "tt7_gs_fwhm = round(seeingArcsec/(pxscl/tt7.BIN_IMAGE))\n",
    "print \"WFS FWHM: %d pixel\"%tt7_gs_fwhm\n",
    "tt7_gs.fwhm = tt7_gs_fwhm\n",
    "\n",
    "print \"detector resolution: %dpixel\"%tt7.N_PX_FRAME\n",
    "print \"WFS pixel scale:  %.2farcsec\"%pxscl\n",
    "print \"WFS field-of-view %.2farcsec\"%(pxscl*tt7.N_PX_IMAGE/tt7.BIN_IMAGE)"
   ]
  },
  {
   "cell_type": "code",
   "execution_count": 94,
   "metadata": {},
   "outputs": [
    {
     "name": "stdout",
     "output_type": "stream",
     "text": [
      "Number of photon-electron: 4055 for magnitude 16.5 in band R+I\n",
      "36 pixels accross the 15arcsec fov\n"
     ]
    }
   ],
   "source": [
    "tt7_gs.magnitude = [16.5]\n",
    "nPhLenslet = tt7_gs.nPhoton*tt7_prms['photoElectronGain']\n",
    "print \"Number of photon-electron: %.0f for magnitude %.1f in band %s\"%(nPhLenslet,tt7_gs.magnitude,tt7_gs.band)\n",
    "nPxLenslet = np.floor(15/pxscl)\n",
    "print \"%d pixels accross the 15arcsec fov\"%nPxLenslet"
   ]
  },
  {
   "cell_type": "code",
   "execution_count": 101,
   "metadata": {},
   "outputs": [
    {
     "name": "stdout",
     "output_type": "stream",
     "text": [
      "@(wfsNoise)> Closed-loop noise rejection factor: 0.5386\n",
      "Centroid error RMS: 15.091mas\n"
     ]
    }
   ],
   "source": [
    "sig2_noise = wfsNoise(nPhLenslet,seeingArcsec,pxscl,nPxLenslet,tt7_prms['readOutNoiseRms'],\n",
    "                      controller={'T':5e-3,'tau':5e-3,'g':0.5})\n",
    "print \"Centroid error RMS: %.3fmas\"%(np.sqrt(sig2_noise)*ceo.constants.RAD2MAS)"
   ]
  },
  {
   "cell_type": "code",
   "execution_count": 81,
   "metadata": {
    "collapsed": true
   },
   "outputs": [],
   "source": [
    "(F,rmsF) = laco.wavefrontSamples(N_SAMPLE=100,tt7_rms=np.sqrt(sig2_noise))\n",
    "#(F,rmsF) = laco.wavefrontSamples(N_SAMPLE=100,wfs_rms=60*ceo.constants.MAS2RAD)"
   ]
  },
  {
   "cell_type": "code",
   "execution_count": 82,
   "metadata": {},
   "outputs": [
    {
     "data": {
      "text/plain": [
       "(401, 401, 100)"
      ]
     },
     "execution_count": 82,
     "metadata": {},
     "output_type": "execute_result"
    }
   ],
   "source": [
    "F.shape"
   ]
  },
  {
   "cell_type": "code",
   "execution_count": 83,
   "metadata": {},
   "outputs": [
    {
     "data": {
      "image/png": "[encoded data removed]",
      "text/plain": [
       "<matplotlib.figure.Figure at 0x7f413f3c3790>"
      ]
     },
     "metadata": {},
     "output_type": "display_data"
    }
   ],
   "source": [
    "plt.hist(rmsF*1e6);"
   ]
  },
  {
   "cell_type": "code",
   "execution_count": 84,
   "metadata": {},
   "outputs": [
    {
     "data": {
      "text/plain": [
       "<matplotlib.colorbar.Colorbar at 0x7f413f0e1610>"
      ]
     },
     "execution_count": 84,
     "metadata": {},
     "output_type": "execute_result"
    },
    {
     "data": {
      "image/png": "[encoded data removed]",
      "text/plain": [
       "<matplotlib.figure.Figure at 0x7f413f62e810>"
      ]
     },
     "metadata": {},
     "output_type": "display_data"
    }
   ],
   "source": [
    "plt.imshow(F[:,:,0]*1e6)\n",
    "plt.colorbar()"
   ]
  },
  {
   "cell_type": "code",
   "execution_count": 85,
   "metadata": {
    "collapsed": true
   },
   "outputs": [],
   "source": [
    "from scipy.signal import fftconvolve\n",
    "from scipy.special import gamma, kv\n",
    "\n",
    "def atmSF(_rho_,_r0_,_L0_):\n",
    "    c = 2*gamma(11./6.)*(24.*gamma(6./5.)/5.)**(5./6.)/(2**(5./6.)*np.pi**(8./3.))\n",
    "    red = np.asarray(2*np.pi*_rho_/_L0_)\n",
    "    out = np.zeros(red.shape)\n",
    "    idx = red!=0\n",
    "    redd = red[idx]\n",
    "    out[idx] = c*(_L0_/_r0_)**(5./3.)*(gamma(5./6.)/2**(1./6.) - redd**(5./6.)*kv(5./6.,redd))\n",
    "    return out\n",
    "\n",
    "def atmOTF(_rho_,_r0_,_L0_):\n",
    "    return np.exp(-0.5*atmSF(_rho_,_r0_,_L0_))"
   ]
  },
  {
   "cell_type": "code",
   "execution_count": 86,
   "metadata": {
    "collapsed": true
   },
   "outputs": [],
   "source": [
    "def telOTF(A,F,wavelength):\n",
    "    k = 2.*np.pi/wavelength\n",
    "    W = A*np.exp(1j*k*F)  \n",
    "    v = np.sum(A)\n",
    "    S1 = np.fliplr(np.flipud(W))\n",
    "    S2 = np.conj(W)\n",
    "    AW = fftconvolve(S1,S2)\n",
    "    return AW"
   ]
  },
  {
   "cell_type": "code",
   "execution_count": 87,
   "metadata": {
    "collapsed": true
   },
   "outputs": [],
   "source": [
    "def PSSn(A,F,L=25.5,wavelength=500e-9,r0=15e-2,L0=25):\n",
    "    nPx = A.shape[0]\n",
    "    u = np.arange(2*nPx-1,dtype=np.float)*L/(nPx-1)\n",
    "    u = u-u[-1]/2\n",
    "    x,y = np.meshgrid(u,u)\n",
    "    rho = np.hypot(x,y)\n",
    "    C = atmOTF(rho,r0,L0)\n",
    "    D = telOTF(A,0,wavelength)*C\n",
    "    sD2 = np.sum(np.abs(D)**2)\n",
    "    if F.ndim<3:\n",
    "        F = F[...,np.newaxis]\n",
    "    nF = F.shape[2]\n",
    "    out = np.zeros(nF)\n",
    "    for k in range(nF):\n",
    "        N = telOTF(A,F[:,:,k],wavelength)*C\n",
    "        out[k] = np.sum(np.abs(N)**2)/sD2\n",
    "    return out"
   ]
  },
  {
   "cell_type": "code",
   "execution_count": 88,
   "metadata": {
    "collapsed": true
   },
   "outputs": [],
   "source": [
    "A = laco.wavefronts['pupil_mask'].reshape(401,401)\n",
    "sa = A.shape"
   ]
  },
  {
   "cell_type": "code",
   "execution_count": 89,
   "metadata": {},
   "outputs": [
    {
     "name": "stdout",
     "output_type": "stream",
     "text": [
      "0.15\n"
     ]
    }
   ],
   "source": [
    "wavelength = 0.5e-6\n",
    "r0wlgth = 15e-2*(wavelength/0.5e-6)**1.2\n",
    "print r0wlgth"
   ]
  },
  {
   "cell_type": "code",
   "execution_count": 90,
   "metadata": {
    "collapsed": true
   },
   "outputs": [],
   "source": [
    "pssn = PSSn(A,F,wavelength=wavelength,r0=r0wlgth)"
   ]
  },
  {
   "cell_type": "code",
   "execution_count": 91,
   "metadata": {},
   "outputs": [
    {
     "name": "stdout",
     "output_type": "stream",
     "text": [
      "0.996875317746\n"
     ]
    },
    {
     "data": {
      "image/png": "[encoded data removed]",
      "text/plain": [
       "<matplotlib.figure.Figure at 0x7f413f0b3490>"
      ]
     },
     "metadata": {},
     "output_type": "display_data"
    }
   ],
   "source": [
    "print np.mean(pssn)\n",
    "plt.hist(pssn);"
   ]
  },
  {
   "cell_type": "code",
   "execution_count": 92,
   "metadata": {
    "collapsed": true
   },
   "outputs": [],
   "source": [
    "def PSSnAvg(A,F,L=25.5,wavelength=500e-9,r0=15e-2,L0=25):\n",
    "    nPx = A.shape[0]\n",
    "    u = np.arange(2*nPx-1,dtype=np.float)*L/(nPx-1)\n",
    "    u = u-u[-1]/2\n",
    "    x,y = np.meshgrid(u,u)\n",
    "    rho = np.hypot(x,y)\n",
    "    C = atmOTF(rho,r0,L0)\n",
    "    D = telOTF(A,0,wavelength)*C\n",
    "    sD2 = np.sum(np.abs(D)**2)\n",
    "    if F.ndim<3:\n",
    "        F = F[...,np.newaxis]\n",
    "    nF = F.shape[2]\n",
    "    out = np.zeros(nF)\n",
    "    telOTFavg = np.zeros((2*nPx-1,2*nPx-1),dtype=np.complex)\n",
    "    for k in range(nF):\n",
    "        telOTFavg += telOTF(A,F[:,:,k],wavelength)\n",
    "    N = telOTFavg*C/nF\n",
    "    out = np.sum(np.abs(N)**2)/sD2\n",
    "    return out"
   ]
  },
  {
   "cell_type": "code",
   "execution_count": 93,
   "metadata": {},
   "outputs": [
    {
     "data": {
      "text/plain": [
       "0.99638118989764257"
      ]
     },
     "execution_count": 93,
     "metadata": {},
     "output_type": "execute_result"
    }
   ],
   "source": [
    "PSSnAvg(A,F)"
   ]
  },
  {
   "cell_type": "code",
   "execution_count": null,
   "metadata": {
    "collapsed": true
   },
   "outputs": [],
   "source": [
    "tt7 = ModelData(None,variate=None)"
   ]
  },
  {
   "cell_type": "code",
   "execution_count": null,
   "metadata": {
    "collapsed": true
   },
   "outputs": [],
   "source": [
    "tt7.variate"
   ]
  },
  {
   "cell_type": "code",
   "execution_count": null,
   "metadata": {},
   "outputs": [],
   "source": [
    "laco.wfs.spotFWHM_arcsec"
   ]
  },
  {
   "cell_type": "code",
   "execution_count": null,
   "metadata": {
    "collapsed": true
   },
   "outputs": [],
   "source": []
  }
 ],
 "metadata": {
  "kernelspec": {
   "display_name": "Python 3",
   "language": "python",
   "name": "python3"
  },
  "language_info": {
   "codemirror_mode": {
    "name": "ipython",
    "version": 3
   },
   "file_extension": ".py",
   "mimetype": "text/x-python",
   "name": "python",
   "nbconvert_exporter": "python",
   "pygments_lexer": "ipython3",
   "version": "3.6.4"
  }
 },
 "nbformat": 4,
 "nbformat_minor": 2
}
