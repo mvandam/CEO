{
 "metadata": {
  "name": "",
  "signature": "sha256:68b5ccbd17e523b3b83a331db2986850d1cebcfaa01aa61af8068a93c5a536dc"
 },
 "nbformat": 3,
 "nbformat_minor": 0,
 "worksheets": [
  {
   "cells": [
    {
     "cell_type": "heading",
     "level": 1,
     "metadata": {},
     "source": [
      "Laser Tomography"
     ]
    },
    {
     "cell_type": "markdown",
     "metadata": {},
     "source": [
      "Phase screens are computed with an `Atmosphere` and a `Source` object.\n",
      "Lets import the `ceo` module first."
     ]
    },
    {
     "cell_type": "code",
     "collapsed": false,
     "input": [
      "import math\n",
      "import numpy as np\n",
      "from ceo import ceo\n",
      "%pylab inline"
     ],
     "language": "python",
     "metadata": {},
     "outputs": [
      {
       "output_type": "stream",
       "stream": "stdout",
       "text": [
        "Populating the interactive namespace from numpy and matplotlib\n"
       ]
      }
     ],
     "prompt_number": 1
    },
    {
     "cell_type": "markdown",
     "metadata": {},
     "source": [
      "The atmosphere is defined with"
     ]
    },
    {
     "cell_type": "code",
     "collapsed": false,
     "input": [
      "atm =  ceo.GmtAtmosphere(0.15,60)"
     ],
     "language": "python",
     "metadata": {},
     "outputs": [],
     "prompt_number": 2
    },
    {
     "cell_type": "markdown",
     "metadata": {},
     "source": [
      "A constellation of 6 Laser guide stars evenly located on a 1 arcmin diameter circle is defined first,"
     ]
    },
    {
     "cell_type": "code",
     "collapsed": false,
     "input": [
      "NL = 30\n",
      "NA = NL+1\n",
      "lgs = ceo.Source(\"V\",\n",
      "                 zenith=np.ones(6)*30*math.pi/180/3600,\n",
      "                 azimuth=np.linspace(0,5,6)*2*math.pi/6,\n",
      "                 height = 90e3,\n",
      "                 resolution=(NA,NA))"
     ],
     "language": "python",
     "metadata": {},
     "outputs": [],
     "prompt_number": 3
    },
    {
     "cell_type": "markdown",
     "metadata": {},
     "source": [
      "The telescope pupil is defined as the Giant Magellan Telescope and mask for the deformable mirror actuators is also set."
     ]
    },
    {
     "cell_type": "code",
     "collapsed": false,
     "input": [
      "D = 25.5\n",
      "#tel = ceo.Telescope(NL*16)\n",
      "#dm  = ceo.Telescope(NA)\n",
      "tel = ceo.GMT(NL*16,D)\n",
      "dm  = ceo.Mask(NA)"
     ],
     "language": "python",
     "metadata": {},
     "outputs": [],
     "prompt_number": 4
    },
    {
     "cell_type": "markdown",
     "metadata": {},
     "source": [
      "A `Centroiding` object is defined, it will contains the phase screen gradient corresponding to the LGS.\n",
      "The `fried_geometry` method computes the DM valid actuator mask according to the telescope pupil shape and the given intensity `threshlod`.\n",
      "The `lgs` `Source` object is masked with the dm mask."
     ]
    },
    {
     "cell_type": "code",
     "collapsed": false,
     "input": [
      "d = D/NL\n",
      "cog = ceo.Centroiding(NL,N_SOURCE=lgs.size)\n",
      "cog.fried_geometry(dm, tel, 16, 0.5)\n",
      "lgs.masked(dm)"
     ],
     "language": "python",
     "metadata": {},
     "outputs": [],
     "prompt_number": 5
    },
    {
     "cell_type": "code",
     "collapsed": false,
     "input": [
      "dm_mask = dm.f"
     ],
     "language": "python",
     "metadata": {},
     "outputs": [],
     "prompt_number": 6
    },
    {
     "cell_type": "markdown",
     "metadata": {},
     "source": [
      "The phase screen gradient is computed with the `Atmosphere` method `get_phase_screen_gradient`.\n",
      "The gradient is computed over a square lenslet array of size $N_L \\times N_L$ with $d$ the pitch in meter.\n",
      "The phase screen gradient is computed for a given `Source` object that contains one or more guide stars.\n",
      "The phase screen gradient can be computed for a given time delay.\n",
      "The $c_x$ and $c_y$ centroids are saved in a `Centroiding` object."
     ]
    },
    {
     "cell_type": "code",
     "collapsed": false,
     "input": [
      "atm.get_phase_screen_gradient(cog,NL,d,lgs,0.0)\n",
      "c = cog.c.host(units='arcsec')"
     ],
     "language": "python",
     "metadata": {},
     "outputs": [],
     "prompt_number": 7
    },
    {
     "cell_type": "code",
     "collapsed": false,
     "input": [
      "imshow(c.reshape(NL*lgs.size*2,NL).transpose(),interpolation='none')\n",
      "#ceog.heatmap(c.reshape(NL*6*2,NL).transpose(), filename=PLOTLY_PATH+\"wavefront gradient\")"
     ],
     "language": "python",
     "metadata": {},
     "outputs": [
      {
       "metadata": {},
       "output_type": "pyout",
       "prompt_number": 8,
       "text": [
        "<matplotlib.image.AxesImage at 0x7f6000175b10>"
       ]
      },
      {
       "metadata": {},
       "output_type": "display_data",
       "png": "[encoded data removed]",
       "text": [
        "<matplotlib.figure.Figure at 0x7f6001262110>"
       ]
      }
     ],
     "prompt_number": 8
    },
    {
     "cell_type": "markdown",
     "metadata": {},
     "source": [
      "The on-axis source is defined and is propagated throught the atmosphere:"
     ]
    },
    {
     "cell_type": "code",
     "collapsed": false,
     "input": [
      "src = [ ceo.Source(\"K\",zenith=k*10*math.pi/180/3600,resolution=(NA,NA)) for k in range(7)]"
     ],
     "language": "python",
     "metadata": {},
     "outputs": [],
     "prompt_number": 9
    },
    {
     "cell_type": "code",
     "collapsed": false,
     "input": [
      "[x.masked(dm) for x in src]"
     ],
     "language": "python",
     "metadata": {},
     "outputs": [
      {
       "metadata": {},
       "output_type": "pyout",
       "prompt_number": 10,
       "text": [
        "[None, None, None, None, None, None, None]"
       ]
      }
     ],
     "prompt_number": 10
    },
    {
     "cell_type": "code",
     "collapsed": false,
     "input": [
      "[ atm.get_phase_screen(x,d,NA,d,NA,0.0) for x in src]"
     ],
     "language": "python",
     "metadata": {},
     "outputs": [
      {
       "metadata": {},
       "output_type": "pyout",
       "prompt_number": 11,
       "text": [
        "[None, None, None, None, None, None, None]"
       ]
      }
     ],
     "prompt_number": 11
    },
    {
     "cell_type": "code",
     "collapsed": false,
     "input": [
      "#imshow(np.concatenate(( src[0].phase.host(), src[1].phase.host()), 1 ),interpolation='none')"
     ],
     "language": "python",
     "metadata": {},
     "outputs": [],
     "prompt_number": 12
    },
    {
     "cell_type": "markdown",
     "metadata": {},
     "source": [
      "From the phase gradient, the phase screen can be reconstructed with a linear minimim mean square error reconstructor (LMMSE).\n",
      "A `Lmmse` object is used to perform the phase estimation.\n",
      "The parameters are:\n",
      "- an `Atmosphere` object,\n",
      "- a `Source` object representing the guide star(s),\n",
      "- a `Source` object representing the star(s) in the estimation direction(s),\n",
      "- the wavefront sampling step in meter,\n",
      "- the number of sample across the wavefront,\n",
      "- a `Mask` object representing the pupil,\n",
      "- the iterative solver."
     ]
    },
    {
     "cell_type": "code",
     "collapsed": false,
     "input": [
      "src_lmmse = [ceo.Lmmse(atm,lgs,x,d,NL,dm,\"MINRES\") for x in src]"
     ],
     "language": "python",
     "metadata": {},
     "outputs": [],
     "prompt_number": 13
    },
    {
     "cell_type": "code",
     "collapsed": false,
     "input": [
      "et = ceo.StopWatch()\n",
      "et.tic()\n",
      "[x.estimation(cog) for x in src_lmmse]\n",
      "et.toc()"
     ],
     "language": "python",
     "metadata": {},
     "outputs": [],
     "prompt_number": 14
    },
    {
     "cell_type": "code",
     "collapsed": false,
     "input": [
      "def wavefront_error_offAxis_tomography(k,display=False):\n",
      "    src_phase = src[k].phase\n",
      "    src_lmmse_phase = src_lmmse[k].phase\n",
      "    ps_e = src_lmmse_phase.host(units='micron',\n",
      "                            zm=True,mask=dm_mask.host()) - src_phase.host(units='micron',zm=True,mask=dm_mask.host_data)\n",
      "    wfe = np.std(ps_e[dm_mask.host_data!=0])*1e3\n",
      "    print \"wavefront error: %6.2fnm\" % wfe\n",
      "    if display:\n",
      "        figure()\n",
      "        ax1 = subplot2grid( (1,3) ,(0,0) , colspan=2 )\n",
      "        ax2 = subplot2grid( (1,3) ,(0,2) )\n",
      "        ax1.imshow(np.concatenate((src_phase.host_data, src_lmmse_phase.host_data),axis=1),\n",
      "                 interpolation='none')\n",
      "        ax2.imshow(ps_e*1e3,interpolation='none')\n",
      "    return wfe"
     ],
     "language": "python",
     "metadata": {},
     "outputs": [],
     "prompt_number": 15
    },
    {
     "cell_type": "code",
     "collapsed": false,
     "input": [
      "wfe_tomoOffAxis = [wavefront_error_offAxis_tomography(k) for k in range(7)]"
     ],
     "language": "python",
     "metadata": {},
     "outputs": [
      {
       "output_type": "stream",
       "stream": "stdout",
       "text": [
        "wavefront error: 194.44nm\n",
        "wavefront error: 210.73nm\n",
        "wavefront error: 219.26nm\n",
        "wavefront error: 236.29nm\n",
        "wavefront error: 255.14nm\n",
        "wavefront error: 280.62nm\n",
        "wavefront error: 306.05nm\n"
       ]
      }
     ],
     "prompt_number": 16
    },
    {
     "cell_type": "code",
     "collapsed": false,
     "input": [
      "def wavefront_error_onAxis_tomography(k,display=False):\n",
      "    src_phase = src[k].phase\n",
      "    src_lmmse_phase = src_lmmse[0].phase\n",
      "    ps_e = src_lmmse_phase.host(units='micron',\n",
      "                            zm=True,mask=dm_mask.host()) - src_phase.host(units='micron',zm=True,mask=dm_mask.host_data)\n",
      "    wfe = np.std(ps_e[dm_mask.host_data!=0])*1e3\n",
      "    print \"wavefront error: %6.2fnm\" % wfe\n",
      "    if display:\n",
      "        figure()\n",
      "        ax1 = subplot2grid( (1,3) ,(0,0) , colspan=2 )\n",
      "        ax2 = subplot2grid( (1,3) ,(0,2) )\n",
      "        ax1.imshow(np.concatenate((src_phase.host_data, src_lmmse_phase.host_data),axis=1),\n",
      "                 interpolation='none')\n",
      "        ax2.imshow(ps_e*1e3,interpolation='none')\n",
      "    return wfe"
     ],
     "language": "python",
     "metadata": {},
     "outputs": [],
     "prompt_number": 17
    },
    {
     "cell_type": "code",
     "collapsed": false,
     "input": [
      "wfe_tomoOnAxis = [wavefront_error_onAxis_tomography(k) for k in range(7)]"
     ],
     "language": "python",
     "metadata": {},
     "outputs": [
      {
       "output_type": "stream",
       "stream": "stdout",
       "text": [
        "wavefront error: 194.44nm\n",
        "wavefront error: 312.09nm\n",
        "wavefront error: 468.86nm\n",
        "wavefront error: 629.32nm\n",
        "wavefront error: 773.04nm\n",
        "wavefront error: 907.65nm\n",
        "wavefront error: 1028.56nm\n"
       ]
      }
     ],
     "prompt_number": 18
    },
    {
     "cell_type": "code",
     "collapsed": false,
     "input": [
      "u = np.linspace(0,60,7)\n",
      "fig, ax = plt.subplots()\n",
      "ax.plot(u,wfe_tomoOffAxis,label='Off-axis tomography')\n",
      "ax.plot(u,wfe_tomoOnAxis,label='On-axis tomography')\n",
      "ax.set_xlabel('Off-axis distance [arcsec]')\n",
      "ax.set_ylabel('WFE [nm]')\n",
      "ax.grid()\n",
      "ax.legend(loc=0)"
     ],
     "language": "python",
     "metadata": {},
     "outputs": [
      {
       "metadata": {},
       "output_type": "pyout",
       "prompt_number": 23,
       "text": [
        "<matplotlib.legend.Legend at 0x7f60000823d0>"
       ]
      },
      {
       "metadata": {},
       "output_type": "display_data",
       "png": "[encoded data removed]",
       "text": [
        "<matplotlib.figure.Figure at 0x7f5feb5983d0>"
       ]
      }
     ],
     "prompt_number": 23
    },
    {
     "cell_type": "code",
     "collapsed": false,
     "input": [],
     "language": "python",
     "metadata": {},
     "outputs": [],
     "prompt_number": 19
    }
   ],
   "metadata": {}
  }
 ]
}