{
 "cells": [
  {
   "cell_type": "code",
   "execution_count": null,
   "metadata": {
    "collapsed": false
   },
   "outputs": [],
   "source": [
    "import ZMX\n",
    "from raytrace import raytrace, coords, lprint\n",
    "import numpy as np\n",
    "import ceo\n",
    "from plotly.offline import download_plotlyjs, init_notebook_mode, iplot\n",
    "import plotly.plotly as py       \n",
    "import plotly.graph_objs as go\n",
    "init_notebook_mode()\n",
    "%pylab inline"
   ]
  },
  {
   "cell_type": "code",
   "execution_count": null,
   "metadata": {
    "collapsed": false
   },
   "outputs": [],
   "source": [
    "reload(ZMX)\n",
    "D = np.double(30e-3)\n",
    "nPx = 5\n",
    "src  = ceo.Source(\"R\",rays_box_size=D,rays_box_sampling=nPx,rays_origin=[0.0,0.0,0.09])\n",
    "xyz = []\n",
    "xyz = [src.rays.coordinates.host()]"
   ]
  },
  {
   "cell_type": "code",
   "execution_count": null,
   "metadata": {
    "collapsed": false
   },
   "outputs": [],
   "source": [
    "ZmxModel = ZMX.ZemaxModel(\"ZmxFiles/crdbrkx.zmx\", src)\n",
    "\n",
    "S          = ZmxModel.surfaces[1:]\n",
    "GlassIndex = ZmxModel.GlassIndex\n",
    "\n",
    "[ZMX.update_material(s, GlassIndex) for s in S]\n",
    "[raytrace(src,S,k+1,xyz) for k in range(len(S))]"
   ]
  },
  {
   "cell_type": "code",
   "execution_count": null,
   "metadata": {
    "collapsed": false
   },
   "outputs": [],
   "source": [
    "print \"X-coord intersections\"\n",
    "lprint(coords(xyz, 17, 0))\n",
    "print\n",
    "print \"Y-coord intersections\"\n",
    "lprint(coords(xyz, 17, 1))\n",
    "print\n",
    "print \"Z-coord intersections\"\n",
    "lprint(coords(xyz, 17, 2))"
   ]
  },
  {
   "cell_type": "code",
   "execution_count": null,
   "metadata": {
    "collapsed": false
   },
   "outputs": [],
   "source": [
    "from plotly import tools\n",
    "fig = tools.make_subplots(rows=2, cols=2, shared_xaxes=True, shared_yaxes=True)\n",
    "h = []\n",
    "for k in range(nPx**2):\n",
    "    h = go.Scatter(x=coords(xyz,k,1),y=coords(xyz,k,2) ,\n",
    "            mode='lines',showlegend=False, \n",
    "            line=dict(width=1,color='rgb(0.2,0.2,0.2'),opacity=0.1 )\n",
    "    fig.append_trace(h, 1, 1)\n",
    "    h = go.Scatter(x=coords(xyz,k,0),y=coords(xyz,k,2) ,\n",
    "            mode='lines',showlegend=False, \n",
    "            line=dict(width=1,color='rgb(0.2,0.2,0.2'),opacity=0.1 )\n",
    "    fig.append_trace(h, 1, 2)\n",
    "    h = go.Scatter(x=coords(xyz,k,1),y=coords(xyz,k,0) ,\n",
    "            mode='lines',showlegend=False, \n",
    "            line=dict(width=1,color='rgb(0.2,0.2,0.2'),opacity=0.1 )\n",
    "    fig.append_trace(h, 2, 1)\n",
    "#data = go.Data(h)\n",
    "fig['layout']['yaxis1'].update(range=[-0.2, 0.2],title='Z axis')\n",
    "fig['layout']['yaxis2'].update(range=[-0.2, 0.2],title='X axis')\n",
    "fig['layout']['xaxis1'].update(range=[-0.2, 0.2],title='Y axis')\n",
    "fig['layout']['xaxis2'].update(range=[-0.2, 0.2],title='X axis')\n",
    "fig['layout'].update(width=800,height=800)\n",
    "#iplot(fig)\n",
    "py.image.ishow(fig)"
   ]
  }
 ],
 "metadata": {
  "kernelspec": {
   "display_name": "Python 2",
   "language": "python",
   "name": "python2"
  },
  "language_info": {
   "codemirror_mode": {
    "name": "ipython",
    "version": 2
   },
   "file_extension": ".py",
   "mimetype": "text/x-python",
   "name": "python",
   "nbconvert_exporter": "python",
   "pygments_lexer": "ipython2",
   "version": "2.7.11"
  }
 },
 "nbformat": 4,
 "nbformat_minor": 0
}
