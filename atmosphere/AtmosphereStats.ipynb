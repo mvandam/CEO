{
 "cells": [
  {
   "cell_type": "markdown",
   "metadata": {},
   "source": [
    "# Atmospheric Phase Statistics"
   ]
  },
  {
   "cell_type": "markdown",
   "metadata": {},
   "source": [
    "First we import the `ceo` module."
   ]
  },
  {
   "cell_type": "code",
   "execution_count": 1,
   "metadata": {},
   "outputs": [
    {
     "name": "stdout",
     "output_type": "stream",
     "text": [
      "Populating the interactive namespace from numpy and matplotlib\n"
     ]
    }
   ],
   "source": [
    "import sys\n",
    "import numpy as np\n",
    "import math\n",
    "import ceo\n",
    "%pylab inline"
   ]
  },
  {
   "cell_type": "markdown",
   "metadata": {},
   "source": [
    "Then a `Source` object is created. You must specify the photometric bandwidth.\n",
    "The zenith and azimuth angles and the source height are optional parameters set by default to 0,0 and $\\infty$, respectively.\n",
    "The wavefront shape is also optional set to (0,0) per default, meaning that the source won't have a wavefront."
   ]
  },
  {
   "cell_type": "code",
   "execution_count": 2,
   "metadata": {},
   "outputs": [],
   "source": [
    "n = 64\n",
    "src = ceo.Source(\"K\",resolution=(n,n))"
   ]
  },
  {
   "cell_type": "markdown",
   "metadata": {},
   "source": [
    "An `Atmosphere` object is created by specifying first the $r_0$ and $L_0$, the the optional number of layers, layer altitudes, fractional powers, wind speeds and directions.\n",
    "Here a single atmospheric layer at the ground is created."
   ]
  },
  {
   "cell_type": "code",
   "execution_count": 3,
   "metadata": {},
   "outputs": [],
   "source": [
    "atm = ceo.Atmosphere(0.15,25)\n",
    "#atm = ceo.GmtAtmosphere(0.15,30)"
   ]
  },
  {
   "cell_type": "markdown",
   "metadata": {},
   "source": [
    "A phase screen is computed by passing the source object, the number of sources in the source object, the sampling step and number in the X and y directions and the time delay."
   ]
  },
  {
   "cell_type": "code",
   "execution_count": 4,
   "metadata": {},
   "outputs": [],
   "source": [
    "atm.get_phase_screen(src,0.1,n,0.1,n,0.0)"
   ]
  },
  {
   "cell_type": "markdown",
   "metadata": {},
   "source": [
    "The phase screen is written in the phase attribute of the source object.\n",
    "The phase attribute is a `cuFloatArray` object that contains a pointer to the phase screen on the device.\n",
    "To copy the data to the host, simply call the `host` method of the `cuFloatArray` object."
   ]
  },
  {
   "cell_type": "code",
   "execution_count": 5,
   "metadata": {},
   "outputs": [
    {
     "data": {
      "text/plain": [
       "<matplotlib.image.AxesImage at 0x7fd99c0b9518>"
      ]
     },
     "execution_count": 5,
     "metadata": {},
     "output_type": "execute_result"
    },
    {
     "data": {
      "image/png": "[encoded data removed]",
      "text/plain": [
       "<Figure size 432x288 with 1 Axes>"
      ]
     },
     "metadata": {
      "needs_background": "light"
     },
     "output_type": "display_data"
    }
   ],
   "source": [
    "imshow(src.phase.host(units='micron'))"
   ]
  },
  {
   "cell_type": "markdown",
   "metadata": {},
   "source": [
    "## Variance"
   ]
  },
  {
   "cell_type": "markdown",
   "metadata": {},
   "source": [
    "The atmosphere turbulence phase can also be computed for arbitrary coordinates $[x,y]$.\n",
    "The coordinates are defined as `cuFloatArray` objects setting the `host_data` attributes to a numpy array.\n",
    "A copy on the device of `host_data` is immediately made."
   ]
  },
  {
   "cell_type": "code",
   "execution_count": 6,
   "metadata": {},
   "outputs": [],
   "source": [
    "x = ceo.cuFloatArray(host_data=np.array([0]))\n",
    "y = ceo.cuFloatArray(host_data=np.array([0]))"
   ]
  },
  {
   "cell_type": "markdown",
   "metadata": {},
   "source": [
    "Now lets define a function to compute single phase values.\n",
    "By calling the `reset` method of the `Atmosphere` object, we ensure to have a set of independent variates.\n",
    "`reset` re-draw the random number used to compute the phase values. "
   ]
  },
  {
   "cell_type": "code",
   "execution_count": 7,
   "metadata": {},
   "outputs": [],
   "source": [
    "def var_eval(x,y,atm,src):\n",
    "    atm.reset()\n",
    "    ps = atm.get_phase_values(x,y,src,0.0)\n",
    "    return ps.host()"
   ]
  },
  {
   "cell_type": "markdown",
   "metadata": {},
   "source": [
    "The function is called a number of times and the phase values are saved in `ps`"
   ]
  },
  {
   "cell_type": "code",
   "execution_count": 8,
   "metadata": {},
   "outputs": [],
   "source": [
    "ps_fun = lambda z: [var_eval(x,y,atm,src) for k in range(z) ]"
   ]
  },
  {
   "cell_type": "markdown",
   "metadata": {},
   "source": [
    "The variance of the phase is computed next.\n",
    "The phase is given in meter, so it is converted in radian."
   ]
  },
  {
   "cell_type": "code",
   "execution_count": 9,
   "metadata": {},
   "outputs": [],
   "source": [
    "ps = ps_fun(1000)\n",
    "wavenumber = 2*math.pi/0.55e-6\n",
    "num_var = np.var(ps)*(wavenumber**2)"
   ]
  },
  {
   "cell_type": "markdown",
   "metadata": {},
   "source": [
    "The numerical variance is compared to the theoretical variance."
   ]
  },
  {
   "cell_type": "code",
   "execution_count": 10,
   "metadata": {},
   "outputs": [
    {
     "name": "stdout",
     "output_type": "stream",
     "text": [
      "Theoretical variance: 435.68rd^2\n",
      "Numerical variance  : 435.83rd^2\n",
      "Variance ratio      :  1.00034\n"
     ]
    }
   ],
   "source": [
    "the_var = ceo.phaseStats.variance(atmosphere=atm)\n",
    "print(\"Theoretical variance: %6.2frd^2\" % the_var)\n",
    "print(\"Numerical variance  : %6.2frd^2\" % num_var)\n",
    "print(\"Variance ratio      : %8.5f\" % (num_var/the_var))"
   ]
  },
  {
   "cell_type": "code",
   "execution_count": 14,
   "metadata": {},
   "outputs": [
    {
     "name": "stdout",
     "output_type": "stream",
     "text": [
      "Theoretical variance: 2375.24nm\n",
      "Numerical variance  : 2375.65nm\n",
      "Variance ratio      :  1.00034\n"
     ]
    }
   ],
   "source": [
    "the_var = ceo.phaseStats.variance(atmosphere=atm)\n",
    "print(\"Theoretical variance: %6.2fnm\" % (np.sqrt(the_var)*715/2/np.pi))\n",
    "print(\"Numerical variance  : %6.2fnm\" % (np.sqrt(num_var)*715/2/np.pi))\n",
    "print(\"Variance ratio      : %8.5f\" % (num_var/the_var))"
   ]
  },
  {
   "cell_type": "markdown",
   "metadata": {},
   "source": [
    "## Structure function"
   ]
  },
  {
   "cell_type": "markdown",
   "metadata": {},
   "source": [
    "The $[x,y]$ plane is randomly sampled in the range $[-2\\mathcal L_0,+2\\mathcal L_0]$."
   ]
  },
  {
   "cell_type": "code",
   "execution_count": 16,
   "metadata": {},
   "outputs": [],
   "source": [
    "n_points = 1000\n",
    "x = np.random.uniform(-1,1,n_points)*atm.L0*2\n",
    "y = np.random.uniform(-1,1,n_points)*atm.L0*2\n",
    "z_xy = x + 1j*y"
   ]
  },
  {
   "cell_type": "markdown",
   "metadata": {},
   "source": [
    "Data are copied to the device:"
   ]
  },
  {
   "cell_type": "code",
   "execution_count": 17,
   "metadata": {},
   "outputs": [],
   "source": [
    "cu_x = ceo.cuFloatArray(host_data=z_xy.real)\n",
    "cu_y = ceo.cuFloatArray(host_data=z_xy.imag)"
   ]
  },
  {
   "cell_type": "markdown",
   "metadata": {},
   "source": [
    "The structure function is computed for baseline $\\rho$ randomly distributed on a circle."
   ]
  },
  {
   "cell_type": "code",
   "execution_count": 18,
   "metadata": {},
   "outputs": [],
   "source": [
    "phi = np.random.uniform(0,2*math.pi,n_points)\n",
    "rho,rho_step = np.linspace(0,atm.L0*4,21,retstep=True)\n",
    "rho[0] = 0.1"
   ]
  },
  {
   "cell_type": "markdown",
   "metadata": {},
   "source": [
    "The differential phase is computed for `n_sample` independent variates.\n",
    "\n",
    "The structure function of the independent variates is computed first.\n",
    "The structure function `sf` is distributed on a circle of radius $\\rho$ where it should be constant.\n",
    "\n",
    "The mean and standart deviation on the circle of the structure function `sf` is evaluated in `mean_sf` and `std_sf`."
   ]
  },
  {
   "cell_type": "code",
   "execution_count": 19,
   "metadata": {},
   "outputs": [],
   "source": [
    "n_sample = 1000\n",
    "d_ps = np.zeros( (n_points, n_sample) , dtype=np.float32)\n",
    "mean_sf = np.zeros( rho.size)\n",
    "std_sf  = np.zeros( rho.size)"
   ]
  },
  {
   "cell_type": "code",
   "execution_count": 22,
   "metadata": {},
   "outputs": [
    {
     "name": "stdout",
     "output_type": "stream",
     "text": [
      "rho sample: 21\n",
      "[20]"
     ]
    }
   ],
   "source": [
    "print(\"rho sample: %d\" % (rho.size))\n",
    "for k_rho in range(rho.size):\n",
    "    sys.stdout.write(\"\\r[%d]\" % k_rho)\n",
    "    z_rho = rho[k_rho]*np.exp(1j*phi)\n",
    "    z_xy_rho = z_xy + z_rho\n",
    "    cu_x_rho = ceo.cuFloatArray(host_data=z_xy_rho.real)\n",
    "    cu_y_rho = ceo.cuFloatArray(host_data=z_xy_rho.imag)\n",
    "    for k in range(n_sample):\n",
    "        atm.reset()\n",
    "        ps     = atm.get_phase_values(cu_x,cu_y,src,0.0).host()\n",
    "        ps_rho = atm.get_phase_values(cu_x_rho,cu_y_rho,src,0.0).host()\n",
    "        d_ps[:,k]   = ps - ps_rho\n",
    "    sf = d_ps.var(axis=1)*(wavenumber**2)\n",
    "    mean_sf[k_rho] = sf.mean()\n",
    "    std_sf[k_rho]  = sf.std()"
   ]
  },
  {
   "cell_type": "code",
   "execution_count": 23,
   "metadata": {},
   "outputs": [],
   "source": [
    "sf_th = ceo.phaseStats.structure_function(rho,atmosphere=atm)"
   ]
  },
  {
   "cell_type": "code",
   "execution_count": 24,
   "metadata": {},
   "outputs": [
    {
     "data": {
      "text/plain": [
       "<matplotlib.legend.Legend at 0x7f6682b0d7f0>"
      ]
     },
     "execution_count": 24,
     "metadata": {},
     "output_type": "execute_result"
    },
    {
     "data": {
      "image/png": "[encoded data removed]",
      "text/plain": [
       "<Figure size 432x288 with 1 Axes>"
      ]
     },
     "metadata": {
      "needs_background": "light"
     },
     "output_type": "display_data"
    }
   ],
   "source": [
    "plot(rho,sf_th,label='Theory')\n",
    "errorbar(rho,mean_sf,yerr=std_sf,marker='.',linestyle='none',label='Numerical')\n",
    "grid()\n",
    "xlabel('Baseline [m]')\n",
    "ylabel('Phase S.F. (rd^2)')\n",
    "legend()"
   ]
  },
  {
   "cell_type": "code",
   "execution_count": null,
   "metadata": {
    "collapsed": true,
    "jupyter": {
     "outputs_hidden": true
    }
   },
   "outputs": [],
   "source": []
  }
 ],
 "metadata": {
  "kernelspec": {
   "display_name": "Python 3",
   "language": "python",
   "name": "python3"
  },
  "language_info": {
   "codemirror_mode": {
    "name": "ipython",
    "version": 3
   },
   "file_extension": ".py",
   "mimetype": "text/x-python",
   "name": "python",
   "nbconvert_exporter": "python",
   "pygments_lexer": "ipython3",
   "version": "3.7.3"
  }
 },
 "nbformat": 4,
 "nbformat_minor": 4
}
