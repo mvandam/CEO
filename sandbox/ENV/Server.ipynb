{
 "cells": [
  {
   "cell_type": "code",
   "execution_count": 1,
   "metadata": {
    "collapsed": true
   },
   "outputs": [],
   "source": [
    "import zmq\n",
    "import msgpack\n",
    "import time\n",
    "import numpy as np\n",
    "import sys\n",
    "import json\n",
    "from pprint import pprint\n",
    "import ceo"
   ]
  },
  {
   "cell_type": "code",
   "execution_count": 2,
   "metadata": {
    "collapsed": false
   },
   "outputs": [
    {
     "name": "stdout",
     "output_type": "stream",
     "text": [
      "{u'git tag': 0.1,\n",
      " u'name': u'Simple Imager',\n",
      " u'optical path': [{u'ubuntu_cuda70': {u'GPU ID': 0,\n",
      "                                       u'label': u'imagine',\n",
      "                                       u'path': {u'GMT_MX': u'GMT',\n",
      "                                                 u'Imaging': u'imager',\n",
      "                                                 u'Source': u'star'}}}]}\n",
      "{u'GMT_MX': u'GMT', u'Imaging': u'imager', u'Source': u'star'}\n",
      "Received request:  ubuntu_cuda70\n",
      "{u'GMT_MX': u'GMT', u'Imaging': u'imager', u'Source': u'star'}\n",
      "Received request:  star\n",
      "Received request:  GMT\n",
      "Received request:  imager\n"
     ]
    }
   ],
   "source": [
    "port = \"5556\"\n",
    "config = json.loads(open('simulation.json').read())\n",
    "pprint(config)\n",
    "pprint(config[\"optical path\"][0][\"ubuntu_cuda70\"][\"path\"])\n",
    "\n",
    "context = zmq.Context()\n",
    "socket = context.socket(zmq.REP)\n",
    "socket.bind(\"tcp://*:%s\" % port)\n",
    "\n",
    "message = socket.recv()\n",
    "print \"Received request: \", message\n",
    "\n",
    "optical_path = config[\"optical path\"][0][message][\"path\"]\n",
    "pprint(optical_path)\n",
    "\n",
    "socket.send_json(optical_path)\n",
    "\n",
    "for k in range(len(optical_path)):\n",
    "    message = socket.recv()\n",
    "    print \"Received request: \", message\n",
    "    time.sleep (1)  \n",
    "    socket.send_json(json.loads(open(message+'.json').read())) "
   ]
  },
  {
   "cell_type": "markdown",
   "metadata": {
    "collapsed": false
   },
   "source": [
    "# DATA CLIENT"
   ]
  },
  {
   "cell_type": "code",
   "execution_count": 3,
   "metadata": {
    "collapsed": false
   },
   "outputs": [
    {
     "name": "stdout",
     "output_type": "stream",
     "text": [
      "Connecting to server...\n"
     ]
    }
   ],
   "source": [
    "data_port = \"5557\"\n",
    "data_context = zmq.Context()\n",
    "print \"Connecting to server...\"\n",
    "data_socket = data_context.socket(zmq.REQ)\n",
    "data_socket.connect (\"tcp://localhost:%s\" % data_port)\n"
   ]
  },
  {
   "cell_type": "code",
   "execution_count": 14,
   "metadata": {
    "collapsed": false
   },
   "outputs": [],
   "source": [
    "ea = np.zeros((7,3))\n",
    "ea[2,1] = ceo.constants.ARCSEC2RAD"
   ]
  },
  {
   "cell_type": "code",
   "execution_count": 15,
   "metadata": {
    "collapsed": false
   },
   "outputs": [
    {
     "name": "stdout",
     "output_type": "stream",
     "text": [
      "Sending request  wavefront ...\n"
     ]
    }
   ],
   "source": [
    "print \"Sending request \", \"wavefront\",\"...\"\n",
    "data_socket.send (\"wavefront\")"
   ]
  },
  {
   "cell_type": "code",
   "execution_count": 17,
   "metadata": {
    "collapsed": false
   },
   "outputs": [],
   "source": [
    "msg = data_socket.recv()\n",
    "if msg==\"euler angles\":\n",
    "    print \"Received request: \", msg\n",
    "    time.sleep (1) \n",
    "    msg = msgpack.packb(ea.tolist())\n",
    "    data_socket.send(msg)\n",
    "else:\n",
    "    data = np.array( msgpack.unpackb(msg,use_list=False) )"
   ]
  },
  {
   "cell_type": "code",
   "execution_count": 18,
   "metadata": {
    "collapsed": false
   },
   "outputs": [
    {
     "data": {
      "text/plain": [
       "<matplotlib.image.AxesImage at 0x2b35babe9410>"
      ]
     },
     "execution_count": 18,
     "metadata": {},
     "output_type": "execute_result"
    },
    {
     "data": {
      "image/png": "[encoded data removed]",
      "text/plain": [
       "<matplotlib.figure.Figure at 0x2b35c949d690>"
      ]
     },
     "metadata": {},
     "output_type": "display_data"
    }
   ],
   "source": [
    "import matplotlib.pyplot as plt\n",
    "%matplotlib inline\n",
    "plt.imshow(data)"
   ]
  },
  {
   "cell_type": "code",
   "execution_count": 13,
   "metadata": {
    "collapsed": false
   },
   "outputs": [
    {
     "data": {
      "text/plain": [
       "False"
      ]
     },
     "execution_count": 13,
     "metadata": {},
     "output_type": "execute_result"
    }
   ],
   "source": [
    "msg=='euler angles'\n"
   ]
  },
  {
   "cell_type": "code",
   "execution_count": null,
   "metadata": {
    "collapsed": true
   },
   "outputs": [],
   "source": [
    "messa"
   ]
  }
 ],
 "metadata": {
  "kernelspec": {
   "display_name": "Python 2",
   "language": "python",
   "name": "python2"
  },
  "language_info": {
   "codemirror_mode": {
    "name": "ipython",
    "version": 2
   },
   "file_extension": ".py",
   "mimetype": "text/x-python",
   "name": "python",
   "nbconvert_exporter": "python",
   "pygments_lexer": "ipython2",
   "version": "2.7.11"
  }
 },
 "nbformat": 4,
 "nbformat_minor": 0
}
